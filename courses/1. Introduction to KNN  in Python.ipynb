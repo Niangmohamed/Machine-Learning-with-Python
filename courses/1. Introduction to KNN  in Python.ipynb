{
 "cells": [
  {
   "cell_type": "markdown",
   "id": "20946015",
   "metadata": {},
   "source": [
    "# Python: Introduction to KNN"
   ]
  },
  {
   "cell_type": "markdown",
   "id": "4a4c6138",
   "metadata": {},
   "source": [
    "**Goal**: understand how the k-nearest neighbor algorithm works and how to implement it!"
   ]
  },
  {
   "cell_type": "markdown",
   "id": "ba00c440",
   "metadata": {
    "toc": true
   },
   "source": [
    "<h1>Table of Contents<span class=\"tocSkip\"></span></h1>\n",
    "<div class=\"toc\"><ul class=\"toc-item\"><li><span><a href=\"#Introduice-the-dataset\" data-toc-modified-id=\"Introduice-the-dataset-1\"><span class=\"toc-item-num\">1&nbsp;&nbsp;</span>Introduice the dataset</a></span></li><li><span><a href=\"#KNN-algorithm\" data-toc-modified-id=\"KNN-algorithm-2\"><span class=\"toc-item-num\">2&nbsp;&nbsp;</span>KNN algorithm</a></span><ul class=\"toc-item\"><li><span><a href=\"#Theory-behind-KNN\" data-toc-modified-id=\"Theory-behind-KNN-2.1\"><span class=\"toc-item-num\">2.1&nbsp;&nbsp;</span>Theory behind KNN</a></span></li><li><span><a href=\"#KNN-algorithm-implementation\" data-toc-modified-id=\"KNN-algorithm-implementation-2.2\"><span class=\"toc-item-num\">2.2&nbsp;&nbsp;</span>KNN algorithm implementation</a></span><ul class=\"toc-item\"><li><span><a href=\"#Step-1:-compute-the-euclidean-distance\" data-toc-modified-id=\"Step-1:-compute-the-euclidean-distance-2.2.1\"><span class=\"toc-item-num\">2.2.1&nbsp;&nbsp;</span>Step 1: compute the euclidean distance</a></span></li><li><span><a href=\"#Step-2:-get-nearest-neighbors\" data-toc-modified-id=\"Step-2:-get-nearest-neighbors-2.2.2\"><span class=\"toc-item-num\">2.2.2&nbsp;&nbsp;</span>Step 2: get nearest neighbors</a></span></li><li><span><a href=\"#Step-3:-make-predictions\" data-toc-modified-id=\"Step-3:-make-predictions-2.2.3\"><span class=\"toc-item-num\">2.2.3&nbsp;&nbsp;</span>Step 3: make predictions</a></span></li><li><span><a href=\"#Step-4:-determine-accuracy-of-predictions\" data-toc-modified-id=\"Step-4:-determine-accuracy-of-predictions-2.2.4\"><span class=\"toc-item-num\">2.2.4&nbsp;&nbsp;</span>Step 4: determine accuracy of predictions</a></span></li><li><span><a href=\"#Step-5:-put-all-together-in-a-KNN-class\" data-toc-modified-id=\"Step-5:-put-all-together-in-a-KNN-class-2.2.5\"><span class=\"toc-item-num\">2.2.5&nbsp;&nbsp;</span>Step 5: put all together in a KNN class</a></span></li></ul></li></ul></li><li><span><a href=\"#Applications\" data-toc-modified-id=\"Applications-3\"><span class=\"toc-item-num\">3&nbsp;&nbsp;</span>Applications</a></span><ul class=\"toc-item\"><li><span><a href=\"#Euclidean-distance\" data-toc-modified-id=\"Euclidean-distance-3.1\"><span class=\"toc-item-num\">3.1&nbsp;&nbsp;</span>Euclidean distance</a></span></li><li><span><a href=\"#Computation-of-the-euclidean-distance-for-all-observations\" data-toc-modified-id=\"Computation-of-the-euclidean-distance-for-all-observations-3.2\"><span class=\"toc-item-num\">3.2&nbsp;&nbsp;</span>Computation of the euclidean distance for all observations</a></span></li><li><span><a href=\"#Randomization-and-sorting\" data-toc-modified-id=\"Randomization-and-sorting-3.3\"><span class=\"toc-item-num\">3.3&nbsp;&nbsp;</span>Randomization and sorting</a></span></li><li><span><a href=\"#Average-price-computation\" data-toc-modified-id=\"Average-price-computation-3.4\"><span class=\"toc-item-num\">3.4&nbsp;&nbsp;</span>Average price computation</a></span></li><li><span><a href=\"#Put-all-together-in-a-function-to-make-predictions\" data-toc-modified-id=\"Put-all-together-in-a-function-to-make-predictions-3.5\"><span class=\"toc-item-num\">3.5&nbsp;&nbsp;</span>Put all together in a function to make predictions</a></span></li></ul></li><li><span><a href=\"#Evaluate-model-performance\" data-toc-modified-id=\"Evaluate-model-performance-4\"><span class=\"toc-item-num\">4&nbsp;&nbsp;</span>Evaluate model performance</a></span><ul class=\"toc-item\"><li><span><a href=\"#Test-the-quality-of-predictions\" data-toc-modified-id=\"Test-the-quality-of-predictions-4.1\"><span class=\"toc-item-num\">4.1&nbsp;&nbsp;</span>Test the quality of predictions</a></span></li><li><span><a href=\"#Error-metrics\" data-toc-modified-id=\"Error-metrics-4.2\"><span class=\"toc-item-num\">4.2&nbsp;&nbsp;</span>Error metrics</a></span><ul class=\"toc-item\"><li><span><a href=\"#MAE-(Mean-Absolute-Error)\" data-toc-modified-id=\"MAE-(Mean-Absolute-Error)-4.2.1\"><span class=\"toc-item-num\">4.2.1&nbsp;&nbsp;</span>MAE (Mean Absolute Error)</a></span></li><li><span><a href=\"#MSE-(Mean-Square-Error)\" data-toc-modified-id=\"MSE-(Mean-Square-Error)-4.2.2\"><span class=\"toc-item-num\">4.2.2&nbsp;&nbsp;</span>MSE (Mean Square Error)</a></span></li></ul></li><li><span><a href=\"#Training-another-model\" data-toc-modified-id=\"Training-another-model-4.3\"><span class=\"toc-item-num\">4.3&nbsp;&nbsp;</span>Training another model</a></span></li><li><span><a href=\"#Root-mean-square-error-(RMSE)\" data-toc-modified-id=\"Root-mean-square-error-(RMSE)-4.4\"><span class=\"toc-item-num\">4.4&nbsp;&nbsp;</span>Root mean square error (RMSE)</a></span></li><li><span><a href=\"#Errors-comparison\" data-toc-modified-id=\"Errors-comparison-4.5\"><span class=\"toc-item-num\">4.5&nbsp;&nbsp;</span>Errors comparison</a></span></li></ul></li></ul></div>"
   ]
  },
  {
   "cell_type": "markdown",
   "id": "e0b1d5e6",
   "metadata": {},
   "source": [
    "## Introduice the dataset"
   ]
  },
  {
   "cell_type": "markdown",
   "id": "4c430c08",
   "metadata": {},
   "source": [
    "The columns of our dataset are described as follows:\n",
    "\n",
    "* host_response_rate: the response rate of the host\n",
    "* host_acceptance_rate: number of requests/requests to the host that convert\n",
    "* host_listings_count: number of other homes of the host\n",
    "* latitude: latitude (coordinate of the home)\n",
    "* longitude: longitude\n",
    "* city: the city where the accommodation is located\n",
    "* zipcode: the postal code of the accommodation\n",
    "* state: the region of the accommodation\n",
    "* accommodates: the number of guests the accommodation can host\n",
    "* room_type: the type of accommodation (Private room, Shared room or Entire home/apt)\n",
    "* bedrooms: number of bedrooms included in the accommodation\n",
    "* bathrooms: number of bathrooms included in the accommodation\n",
    "* beds: number of beds included in the accommodation\n",
    "* price: price per night\n",
    "* cleaning_fee: additional cost for cleaning\n",
    "* security_deposit: security deposit, in case of damage\n",
    "* minimum_nights: minimum number of nights for the rental\n",
    "* maximum_nights: maximum number of nights for the rental\n",
    "* number_of_ reviews: number of reviews left by users"
   ]
  },
  {
   "cell_type": "markdown",
   "id": "73ba31d7",
   "metadata": {},
   "source": [
    "In this section, we will try to answer the following questions:\n",
    "\n",
    "* read the file 'paris_airbnb.csv' in a dataframe named paris_listings\n",
    "* display the first row of paris_listings"
   ]
  },
  {
   "cell_type": "code",
   "execution_count": 1,
   "id": "185b80d1",
   "metadata": {},
   "outputs": [],
   "source": [
    "import matplotlib.pyplot as plt\n",
    "import numpy as np\n",
    "import pandas as pd\n",
    "pd.options.mode.chained_assignment = None"
   ]
  },
  {
   "cell_type": "code",
   "execution_count": 2,
   "id": "ddad26de",
   "metadata": {},
   "outputs": [
    {
     "data": {
      "text/html": [
       "<div>\n",
       "<style scoped>\n",
       "    .dataframe tbody tr th:only-of-type {\n",
       "        vertical-align: middle;\n",
       "    }\n",
       "\n",
       "    .dataframe tbody tr th {\n",
       "        vertical-align: top;\n",
       "    }\n",
       "\n",
       "    .dataframe thead th {\n",
       "        text-align: right;\n",
       "    }\n",
       "</style>\n",
       "<table border=\"1\" class=\"dataframe\">\n",
       "  <thead>\n",
       "    <tr style=\"text-align: right;\">\n",
       "      <th></th>\n",
       "      <th>host_response_rate</th>\n",
       "      <th>host_acceptance_rate</th>\n",
       "      <th>host_listings_count</th>\n",
       "      <th>latitude</th>\n",
       "      <th>longitude</th>\n",
       "      <th>city</th>\n",
       "      <th>zipcode</th>\n",
       "      <th>state</th>\n",
       "      <th>accommodates</th>\n",
       "      <th>room_type</th>\n",
       "      <th>bedrooms</th>\n",
       "      <th>bathrooms</th>\n",
       "      <th>beds</th>\n",
       "      <th>price</th>\n",
       "      <th>cleaning_fee</th>\n",
       "      <th>security_deposit</th>\n",
       "      <th>minimum_nights</th>\n",
       "      <th>maximum_nights</th>\n",
       "      <th>number_of_reviews</th>\n",
       "    </tr>\n",
       "  </thead>\n",
       "  <tbody>\n",
       "    <tr>\n",
       "      <th>0</th>\n",
       "      <td>100%</td>\n",
       "      <td>NaN</td>\n",
       "      <td>1.0</td>\n",
       "      <td>48.83349</td>\n",
       "      <td>2.31852</td>\n",
       "      <td>Paris</td>\n",
       "      <td>75014</td>\n",
       "      <td>Île-de-France</td>\n",
       "      <td>2</td>\n",
       "      <td>Entire home/apt</td>\n",
       "      <td>0.0</td>\n",
       "      <td>1.0</td>\n",
       "      <td>0.0</td>\n",
       "      <td>$75.00</td>\n",
       "      <td>$50.00</td>\n",
       "      <td>$0.00</td>\n",
       "      <td>3</td>\n",
       "      <td>15</td>\n",
       "      <td>8</td>\n",
       "    </tr>\n",
       "    <tr>\n",
       "      <th>1</th>\n",
       "      <td>100%</td>\n",
       "      <td>NaN</td>\n",
       "      <td>1.0</td>\n",
       "      <td>48.85100</td>\n",
       "      <td>2.35869</td>\n",
       "      <td>Paris</td>\n",
       "      <td>75004</td>\n",
       "      <td>Ile-de-France</td>\n",
       "      <td>2</td>\n",
       "      <td>Entire home/apt</td>\n",
       "      <td>0.0</td>\n",
       "      <td>1.0</td>\n",
       "      <td>1.0</td>\n",
       "      <td>$115.00</td>\n",
       "      <td>$36.00</td>\n",
       "      <td>$0.00</td>\n",
       "      <td>1</td>\n",
       "      <td>90</td>\n",
       "      <td>173</td>\n",
       "    </tr>\n",
       "    <tr>\n",
       "      <th>2</th>\n",
       "      <td>100%</td>\n",
       "      <td>NaN</td>\n",
       "      <td>2.0</td>\n",
       "      <td>48.85758</td>\n",
       "      <td>2.35275</td>\n",
       "      <td>Paris</td>\n",
       "      <td>75004</td>\n",
       "      <td>Île-de-France</td>\n",
       "      <td>4</td>\n",
       "      <td>Entire home/apt</td>\n",
       "      <td>2.0</td>\n",
       "      <td>1.0</td>\n",
       "      <td>2.0</td>\n",
       "      <td>$115.00</td>\n",
       "      <td>$50.00</td>\n",
       "      <td>$200.00</td>\n",
       "      <td>10</td>\n",
       "      <td>23</td>\n",
       "      <td>243</td>\n",
       "    </tr>\n",
       "    <tr>\n",
       "      <th>3</th>\n",
       "      <td>100%</td>\n",
       "      <td>NaN</td>\n",
       "      <td>1.0</td>\n",
       "      <td>48.86528</td>\n",
       "      <td>2.39326</td>\n",
       "      <td>Paris</td>\n",
       "      <td>75020</td>\n",
       "      <td>Ile-de-France</td>\n",
       "      <td>3</td>\n",
       "      <td>Entire home/apt</td>\n",
       "      <td>1.0</td>\n",
       "      <td>1.0</td>\n",
       "      <td>1.0</td>\n",
       "      <td>$90.00</td>\n",
       "      <td>NaN</td>\n",
       "      <td>NaN</td>\n",
       "      <td>3</td>\n",
       "      <td>365</td>\n",
       "      <td>1</td>\n",
       "    </tr>\n",
       "    <tr>\n",
       "      <th>4</th>\n",
       "      <td>67%</td>\n",
       "      <td>NaN</td>\n",
       "      <td>3.0</td>\n",
       "      <td>48.85899</td>\n",
       "      <td>2.34735</td>\n",
       "      <td>Paris</td>\n",
       "      <td>75001</td>\n",
       "      <td>Île-de-France</td>\n",
       "      <td>2</td>\n",
       "      <td>Entire home/apt</td>\n",
       "      <td>1.0</td>\n",
       "      <td>1.0</td>\n",
       "      <td>1.0</td>\n",
       "      <td>$75.00</td>\n",
       "      <td>$200.00</td>\n",
       "      <td>$1,500.00</td>\n",
       "      <td>180</td>\n",
       "      <td>365</td>\n",
       "      <td>0</td>\n",
       "    </tr>\n",
       "  </tbody>\n",
       "</table>\n",
       "</div>"
      ],
      "text/plain": [
       "  host_response_rate  host_acceptance_rate  host_listings_count  latitude  \\\n",
       "0               100%                   NaN                  1.0  48.83349   \n",
       "1               100%                   NaN                  1.0  48.85100   \n",
       "2               100%                   NaN                  2.0  48.85758   \n",
       "3               100%                   NaN                  1.0  48.86528   \n",
       "4                67%                   NaN                  3.0  48.85899   \n",
       "\n",
       "   longitude   city zipcode          state  accommodates        room_type  \\\n",
       "0    2.31852  Paris   75014  Île-de-France             2  Entire home/apt   \n",
       "1    2.35869  Paris   75004  Ile-de-France             2  Entire home/apt   \n",
       "2    2.35275  Paris   75004  Île-de-France             4  Entire home/apt   \n",
       "3    2.39326  Paris   75020  Ile-de-France             3  Entire home/apt   \n",
       "4    2.34735  Paris   75001  Île-de-France             2  Entire home/apt   \n",
       "\n",
       "   bedrooms  bathrooms  beds    price cleaning_fee security_deposit  \\\n",
       "0       0.0        1.0   0.0   $75.00       $50.00            $0.00   \n",
       "1       0.0        1.0   1.0  $115.00       $36.00            $0.00   \n",
       "2       2.0        1.0   2.0  $115.00       $50.00          $200.00   \n",
       "3       1.0        1.0   1.0   $90.00          NaN              NaN   \n",
       "4       1.0        1.0   1.0   $75.00      $200.00        $1,500.00   \n",
       "\n",
       "   minimum_nights  maximum_nights  number_of_reviews  \n",
       "0               3              15                  8  \n",
       "1               1              90                173  \n",
       "2              10              23                243  \n",
       "3               3             365                  1  \n",
       "4             180             365                  0  "
      ]
     },
     "execution_count": 2,
     "metadata": {},
     "output_type": "execute_result"
    }
   ],
   "source": [
    "paris_listings = pd.read_csv('paris_airbnb.csv')\n",
    "paris_listings.head()"
   ]
  },
  {
   "cell_type": "markdown",
   "id": "d1d08aa4",
   "metadata": {},
   "source": [
    "## KNN algorithm"
   ]
  },
  {
   "cell_type": "markdown",
   "id": "14d3131c",
   "metadata": {},
   "source": [
    "In this section, first, we will start by talking about ``the k-nearest neighbor theory``, next, we will discuss how to ``implement the algorithm`` from scratch."
   ]
  },
  {
   "cell_type": "markdown",
   "id": "0683e9d2",
   "metadata": {},
   "source": [
    "### Theory behind KNN"
   ]
  },
  {
   "cell_type": "markdown",
   "id": "097c6e2f",
   "metadata": {},
   "source": [
    "K Nearest Neighbors is a simple machine learning model that makes predictions based on the most similar observations in its training data. Although it can be very powerful, its predictive ability is limited to observations that are similar to the training data it has in memory.\n",
    "\n",
    "Unlike most other models, KNN does not learn from its training data set. Instead, it keeps the training data set in memory and then compares the new observation to the stored data. KNN does not do any work until a prediction is needed.\n",
    "\n",
    "When a prediction is needed, it does exactly what its name says. The model examines the new observation and finds the most similar records (nearest neighbors) that it holds in its training set. The number of neighbors (k) that the model selects from its training data is defined by the user. A prediction can be made either by returning the most common result (classification) or by taking the mean (regression)."
   ]
  },
  {
   "cell_type": "markdown",
   "id": "dab417c3",
   "metadata": {},
   "source": [
    "KNN is a simple model to implement, but as a result it is limited in the types of data it can take as input. When working with KNN, the phrase \"garbage in, garbage out\" has never been more accurate. KNN does not handle categorical variables, so everything must be preprocessed to include only numeric values.\n",
    "\n",
    "Also, as you will see in the next section, nearest neighbors are found by calculating the distances between the new observation and the records kept in memory. Those with the smallest distances are considered the most similar. Intuitively, you should understand the importance of scaling your data (so that they are all measured in the same metric) before running a KNN model."
   ]
  },
  {
   "cell_type": "markdown",
   "id": "c457e6d7",
   "metadata": {},
   "source": [
    "### KNN algorithm implementation"
   ]
  },
  {
   "cell_type": "markdown",
   "id": "6b0afacf",
   "metadata": {},
   "source": [
    "Now that we understand the theory behind KNN, we can discuss how to implement the algorithm from scratch in five steps:\n",
    "\n",
    "* step 1: compute the euclidean distance\n",
    "\n",
    "* step 2: get nearest neighbors\n",
    "\n",
    "* step 3: make predicitons\n",
    "\n",
    "* step 4: determine accuracy of predictions\n",
    "\n",
    "* step 5: put all together in a KNN class"
   ]
  },
  {
   "cell_type": "markdown",
   "id": "72562ef4",
   "metadata": {},
   "source": [
    "#### Step 1: compute the euclidean distance"
   ]
  },
  {
   "cell_type": "markdown",
   "id": "8d14c79f",
   "metadata": {},
   "source": [
    "The formula for euclidean Distance is: $\\sum_{i=1}^{n}\\left(x_{i}-y_{i}\\right)^{2}$. Euclidean distance may seem complicated, and the formula may seem intimidating. But the concept is very simple. The euclidean distance is the ordinary straight-line distance between two data points. The formula can be simply derived from the Pythagorean formula: $z^{2}=x^{2}+y^{2}$. Where c is the euclidean distance between data points x and y.\n",
    "\n",
    "For simplicity, let's say that data points a and b are 2-Dimensional and described by their x and y coordinates: $\\mathrm{x}=\\left(x_{1}, x_{2}\\right)$ and $\\mathrm{y}=\\left(y_{1}, y_{2}\\right)$. To help with understanding, visually we can view this on a graph. On the graph below data points a and b have been ploted (represented by the large arrowheads). The euclidean distance we are trying to calculate is the vector drawn in yellow. By drawing in the vectors representing the data points (in blue and red) we can clearly see that the yellow euclidean distance is simply the hypotenuse of the triangle."
   ]
  },
  {
   "cell_type": "code",
   "execution_count": 3,
   "id": "7c3a4506",
   "metadata": {},
   "outputs": [
    {
     "data": {
      "image/png": "[encoded data removed]",
      "text/plain": [
       "<Figure size 432x288 with 1 Axes>"
      ]
     },
     "metadata": {
      "needs_background": "light"
     },
     "output_type": "display_data"
    }
   ],
   "source": [
    "# Coordinate Pairs for where the datapoints are (represented by the arrowheads at the end of the vectors)\n",
    "\n",
    "# Datapoint a\n",
    "red = (2, 0)\n",
    "\n",
    "# Datapoint b\n",
    "blue = (0, 2)\n",
    "\n",
    "# Axis bounds\n",
    "plt.xlim(-1,3)          \n",
    "plt.ylim(-1,3)\n",
    "\n",
    "# Plot vectors\n",
    "plt.arrow(0, 2, 2, -2, head_width=.02, head_length=0.01, color = 'y')\n",
    "plt.arrow(0, 0, 2, 0, head_width=.2, head_length=0.1, color = 'r')\n",
    "plt.arrow(0, 0, 0, 2,  head_width=.2, head_length=0.1, color = 'b')\n",
    "plt.title('Calculating Euclidean Distance')\n",
    "plt.show()"
   ]
  },
  {
   "cell_type": "markdown",
   "id": "d4f60221",
   "metadata": {},
   "source": [
    "We know that the length of the vectors for point a and b can be calculated by $\\left|x_{1}-y_{1}\\right|$ and $\\left|x_{2}-y_{2}\\right|$. So it follows that, $z^{2}=\\left(x_{1}-y_{1}\\right)^{2}+\\left(x_{2}-y_{2}\\right)^{2}$ that leads to $z=\\sqrt{\\left(x_{1}-y_{1}\\right)^{2}+\\left(x_{2}-y_{2}\\right)^{2}}$. This is the basic formula for euclidean distance for 2-D datapoints. However, this can be expanded to 3-D and beyond leaving us with the finalized formula of euclidean distance we saw above: $z=\\sqrt{\\left(x_{1}-y_{1}\\right)^{2}+\\left(x_{2}-y_{2}\\right)^{2}+\\left(x_{3}-y_{3}\\right)^{2}+\\ldots+\\left(x_{n}-y_{n}\\right)^{2}}$. More succintly written as, $\\sum_{i=1}^{n}\\left(x_{i}-y_{i}\\right)^{2}$.\n",
    "\n",
    "When working with datasets, each row is a datapoint. Each column represents another dimension of the datapoint. To calculate the Euclidean distance between two points we can use the following function."
   ]
  },
  {
   "cell_type": "markdown",
   "id": "1a809f68",
   "metadata": {},
   "source": [
    "```Python\n",
    "# Helper method to calculate the square root\n",
    "def sq_rt(x):\n",
    "  return x** 0.5\n",
    "\n",
    "# Calculate the Euclidean distance between two vectors (datapoints)\n",
    "def euclidean_distance(row_1, row_2):     # For datapoint row 1 and datapoint row 2\n",
    "  # Save a distance variable to save sum of calculations to\n",
    "  distance = 0.0\n",
    "  # Itereate through each column of the row\n",
    "  # Except for the last column which is where the target varibale is stored\n",
    "  for i in range(len(row_1)-1):\n",
    "    # Calculate the length vectors for each dimension and sum them\n",
    "    distance += (row_1[i]- row_2[i])**2\n",
    "  # Return the square root of the sum of the distances\n",
    "  return sq_rt(distance)\n",
    "```"
   ]
  },
  {
   "cell_type": "markdown",
   "id": "11c3fa76",
   "metadata": {},
   "source": [
    "The function above assumes that the output target is the last column of the datapoint and is therefore not included in the distance calculations. In the final KNN class we will have a fit method that saves the X values and the target Y separately."
   ]
  },
  {
   "cell_type": "markdown",
   "id": "c0ae4a9a",
   "metadata": {},
   "source": [
    "#### Step 2: get nearest neighbors"
   ]
  },
  {
   "cell_type": "markdown",
   "id": "3968dae8",
   "metadata": {},
   "source": [
    "Now that we know how to calculate the distance betweeen two datapoints, we can find the k nearest neighbors (closest instances in the training data) to our new datapoint.\n",
    "\n",
    "First we can use the above function to calculate the distances between our new observation and each datapoint in our training set. Once calculated, we can sort these distances and return the instances with the smallest calculated distances.\n",
    "\n",
    "The below function get_KNN() will implement this idea in python."
   ]
  },
  {
   "cell_type": "markdown",
   "id": "ecfcbc9e",
   "metadata": {},
   "source": [
    "```Python\n",
    "# Return the k nearest neighbors to the new observation\n",
    "\n",
    "# Input is the training data, test observation, and the number of neighbors (k) to return\n",
    "def get_KNN(train, test_row, k):\n",
    "  # Save the rows and calculated distances in a tuple\n",
    "  distances = list()\n",
    "\n",
    "  # Iterate through each row in the training data\n",
    "  # Use the euclidean distance function to calculate the distances between the train row \n",
    "  # and the new observation\n",
    "  for train_row in train:\n",
    "    euc_dist = euclidean_distance(test_row, train_row)\n",
    "    # Save the row and calculated distance\n",
    "    distances.append((train_row, euc_dist))\n",
    "\n",
    "  # Sort by using the calculated distances (the second item in the tuple)\n",
    "  distances.sort(key= lambda tup: tup[1])\n",
    "  \n",
    "  # Populate a list with k nearest neighbors\n",
    "  n_neighbors = list()\n",
    "\n",
    "  # Get the nearest k neighbors by returning the k first instances in the sorted distances list\n",
    "  # Return just the first value in the tuple (the row information)\n",
    "  for i in range(k):\n",
    "    n_neighbors.append(distances[i][0])\n",
    "  \n",
    "  # Return the list of nearest neighbors\n",
    "  return n_neighbors\n",
    "```"
   ]
  },
  {
   "cell_type": "markdown",
   "id": "eef26f25",
   "metadata": {},
   "source": [
    "#### Step 3: make predictions"
   ]
  },
  {
   "cell_type": "markdown",
   "id": "e40ac63f",
   "metadata": {},
   "source": [
    "We have used our knowledge of euclidean distance to find the k nearest neighbors to our test datapoint. Now we can make predictions, the whole point of the model.\n",
    "\n",
    "We have the most similar instances from the dataset to our test observation. Intuatively, by looking at the target outputs of our nearest neighbors, we should be able to predict an output for our test case.\n",
    "\n",
    "Classification: for a classification problem, that is as simple as counting up the instances of each output across the k nearest neighbors. Our prediction for our test datapoint will be whichever output occured most frequnetly in the nearest neighbors.\n",
    "\n",
    "The function below use the output from the get_KNN() function to implement the idea of classification prediction in python."
   ]
  },
  {
   "cell_type": "markdown",
   "id": "552c3e1a",
   "metadata": {},
   "source": [
    "```Python\n",
    "# Make a classification prediction with k nearest neighbors\n",
    "def predict_classification(train, test_row, k):\n",
    "  # Find the nearest neighbors\n",
    "  n_neighbors = get_KNN(train, test_row, k)\n",
    "\n",
    "  # Populate a list with the target output (the last column) from each KNN row\n",
    "  output_values = [row[-1] for row in n_neighbors]\n",
    "\n",
    "  # Make prediction by counting each occurance of output values\n",
    "  # Return the output value that occurs the most frequently\n",
    "  prediction = max(set(output_values), key= output_values.count)\n",
    "  # Return the prediction\n",
    "  return prediction\n",
    "```"
   ]
  },
  {
   "cell_type": "markdown",
   "id": "1f53cd89",
   "metadata": {},
   "source": [
    "Regression: for a regression problem, we use the same logic of looking at the output values of the k nearest neighbors. Instead of returning the most common occurance, we will return the mean value of the output values as the regression prediction. The function below use the output from the get_KNN() function to make a regression prediction in python."
   ]
  },
  {
   "cell_type": "markdown",
   "id": "0d68c5cc",
   "metadata": {},
   "source": [
    "```Python\n",
    "# Make a regression prediction with k nearest neighbors\n",
    "def predict_regression(train, test_row, k):\n",
    "  # Find the nearest neighbors\n",
    "  n_neighbors = get_KNN(train, test_row, k)\n",
    "\n",
    "  # Populate a list with the target output (the last column) from each KNN row\n",
    "  output_values = [row[-1] for row in n_neighbors]\n",
    "\n",
    "  # Make prediction by calculating the mean of the output values from the nearest neighbors\n",
    "  prediction = sum(output_values) / len(output_values)\n",
    "  # Return the prediction\n",
    "  return prediction\n",
    "```"
   ]
  },
  {
   "cell_type": "markdown",
   "id": "36837fc1",
   "metadata": {},
   "source": [
    "The two prediction functions created above are for making a prediction for one new data point. That was primarily for ease of understanding. Generally, we are not looking for a single prediction, but a prediction for each point in a large dataset. To adapt the above functions to handle multiple predictions, just iterate through your new dataset, calling the predict function on each point.\n",
    "\n",
    "The code below will accomplish that for classification."
   ]
  },
  {
   "cell_type": "markdown",
   "id": "2a7fb218",
   "metadata": {},
   "source": [
    "```Python\n",
    "# Create predictions for multiple new datapoints, classification\n",
    "\n",
    "def multiple_classifications(train, test, k):\n",
    "  # Create a list to hold all of the predictions\n",
    "  predictions = list()\n",
    "  \n",
    "  # For each row in the test data, call the predict function\n",
    "  for row in test:\n",
    "    predicted_output = predict_classification(train, row, k)\n",
    "    predictions.append(predicted_output)\n",
    " \n",
    "  # Return the populated list of predictions\n",
    "  return predictions\n",
    "```"
   ]
  },
  {
   "cell_type": "markdown",
   "id": "73fe2402",
   "metadata": {},
   "source": [
    "The above can be similarly modified to handle regression predictions."
   ]
  },
  {
   "cell_type": "markdown",
   "id": "aafca326",
   "metadata": {},
   "source": [
    "#### Step 4: determine accuracy of predictions"
   ]
  },
  {
   "cell_type": "markdown",
   "id": "b406d1c5",
   "metadata": {},
   "source": [
    "We may have predictions but what use are they if we do not know how accurate they are. The classification metric (accuracy) to is used to determine the strength of our predictive model. This can simply be calculated by counting the number of correct predictions the model made divided by the amount of predictions it made.\n",
    "\n",
    "Accuracy = correct_predictions / total_predictions. \n",
    "\n",
    "In python this can be implemented as follows:"
   ]
  },
  {
   "cell_type": "markdown",
   "id": "bd1ca625",
   "metadata": {},
   "source": [
    "```Python\n",
    "# Return accuracy by comparing predicted output to the known actual output\n",
    "\n",
    "def model_accuracy(predicted, actual):\n",
    "\n",
    "    # Compare each prediction to the known test output\n",
    "    predict_bool = [predicted[i] == actual[i] for i in range(len(predictions))]\n",
    "\n",
    "    # Return the percentage of correct predictions\n",
    "    accuracy = sum(predict_bool) / len(self.y_test)\n",
    "    return accuracy\n",
    "```"
   ]
  },
  {
   "cell_type": "markdown",
   "id": "92d7bb52",
   "metadata": {},
   "source": [
    "The regression metric (MSE for mean squared error) is used to evaluate your model's ability. Mean squared error, Root mean squared error, mean absolute error, and  are a few options. Explaining them all is outside the scope of this course but I suggest you spend some time learning the pros and cons for each one. For our example, we will use mean squared error.\n",
    "\n",
    "Calculating the MSE is the average of the squared differences between the actual output and the predicted output. Mathmatically, this formula can be written as MSE $=\\frac{1}{n} \\sum(\\text { actual }-\\text { predicted })^{2}$. In python, we can implement an MSE calculation as follows."
   ]
  },
  {
   "cell_type": "markdown",
   "id": "efb2ddd0",
   "metadata": {},
   "source": [
    "```Python\n",
    "# Return the mean square error by comparing the predicted outputs with the known outputs\n",
    "\n",
    "def model_mse(predicted, actual):\n",
    "    # Start a mse variable at 0\n",
    "    mse = 0\n",
    "\n",
    "    # For each predicted value - square the difference bewteen the actual and predicted output\n",
    "    # Sum them all and divide by the number of predicted outputs\n",
    "    for i in range(len(predicted)):\n",
    "      mse += (actual[i] - predicted[i])**2\n",
    "      mse = mse / len(predicted)\n",
    "\n",
    "    # Return the calculated mean square root\n",
    "    return mse\n",
    "```"
   ]
  },
  {
   "cell_type": "markdown",
   "id": "54110264",
   "metadata": {},
   "source": [
    "#### Step 5: put all together in a KNN class"
   ]
  },
  {
   "cell_type": "markdown",
   "id": "20f744c9",
   "metadata": {},
   "source": [
    "Now that we have all of the parts, we can put them all in a K Nearest Neighbor class. All of the functions defined above will be methods that you can call on the class."
   ]
  },
  {
   "cell_type": "markdown",
   "id": "4dc53c71",
   "metadata": {},
   "source": [
    "```Python\n",
    "# K Nearest Neighbors Class\n",
    "class KNN(object):\n",
    "    '''\n",
    "    Class is initialized by setting k (number of nearest neighbors you want to look at).\n",
    "    Then call the .fit() method to save the X_train matrix and y_train vector.\n",
    "    The method .predict_classification() will return classification predictions given X_test.\n",
    "    The method .predict_regression() will return regression predictions given X_test.\n",
    "    '''\n",
    "    def __init__(self, k=3):\n",
    "        # k is number of nearest neighbors to return, default is 3\n",
    "        self.k = k\n",
    "\n",
    "\n",
    "    def sq_rt(self, x):\n",
    "        '''\n",
    "        Helper method to return the square root\n",
    "        to be used in Euclidean Distance calculations.\n",
    "        '''    \n",
    "        return x**0.5\n",
    "\n",
    "    def euclidean_distance(self, row_1, row_2):\n",
    "        '''\n",
    "        Helper method to calculate the Euclidean Distance between two points, (row_1 and row_2)\n",
    "        to be used in get_KNN to calculate the closest training points to the test data.\n",
    "        '''\n",
    "        # Save a distance variable to save sum of calculations to\n",
    "        distance = 0.0\n",
    "        # Itereate through each column of the row\n",
    "        for i in range(len(row_1)):\n",
    "            # Calculate the length vectors for each dimension and sum them\n",
    "            distance += (row_1[i]- row_2[i])**2\n",
    "        # Return the square root of the sum of the distances\n",
    "        return self.sq_rt(distance)\n",
    "\n",
    "    def fit(self, X_train, y_train):\n",
    "        '''\n",
    "        Our algorithm needs the input data to be an python list.\n",
    "        Fit method will convert X_train and y_train to lists and save in memory.\n",
    "        '''\n",
    "        self.y_train = y_train.values.tolist()\n",
    "        self.X_train = X_train\n",
    "\n",
    "\n",
    "    def get_KNN(self, test_row):\n",
    "        '''\n",
    "        Helper method for prediction methods.\n",
    "        Will take in one test row and calculate the k nearest neighbors.\n",
    "        Returns a list of nearest neighbors.\n",
    "        '''\n",
    "\n",
    "        # Save the rows and calculated distances in a tuple\n",
    "        distances = list()\n",
    "\n",
    "        # Iterate through each row in the training data\n",
    "        for i in range(len(self.X_train)):\n",
    "            # Use the euclidean distance function to calculate the distances between the train row and the new observation\n",
    "            euc_dist = self.euclidean_distance(test_row, self.X_train[i])\n",
    "            # Save the index (to later recall the output value), the row data and the calculated distance\n",
    "            distances.append((i, self.X_train[i], euc_dist))\n",
    "\n",
    "\n",
    "        # Sort by using the calculated distances (the third item in the tuple)\n",
    "        distances.sort(key= lambda tup: tup[2])\n",
    "\n",
    "        # Populate a list with k nearest neighbors\n",
    "        n_neighbors = list()\n",
    "        \n",
    "        # Get the nearest k neighbors by returning the k first instances in the sorted distances list\n",
    "        # Return just the first value in the tuple (the row information)\n",
    "        for i in range(self.k):\n",
    "            n_neighbors.append(distances[i][:2])\n",
    "    \n",
    "        # Return the list of nearest neighbors\n",
    "        # Don't need to save it to self because we are just using it to populate a list\n",
    "        # Used for the prediction method.\n",
    "        # The prediction method will save the important information\n",
    "        return n_neighbors\n",
    "    \n",
    "    def helper_predict_classification(self, test_row):\n",
    "        '''\n",
    "        Method returns a classification prediction for a single given test datapoint.\n",
    "        This method will be utilized in the predict_classification method which will be \n",
    "        capable of making predictions for a large X_test dataset.\n",
    "        '''\n",
    "\n",
    "        # Find the nearest neighbors\n",
    "        n_neighbors = self.get_KNN(test_row)\n",
    "\n",
    "        # Use the index values of the nearest neighbors to recall their target outputs\n",
    "\n",
    "        # Store the index values of the n_neighbors\n",
    "        train_output = [n_neighbors[i][0] for i in range(self.k)]    \n",
    "\n",
    "        # Use the index values from the n_neighbors to return their associated outputs from y_train\n",
    "        output_values = [self.y_train[value] for value in train_output]\n",
    "\n",
    "        # Make a prediction by counting each occurance of output values\n",
    "        # Return the output value that occurs the most frequently\n",
    "        prediction = max(set(output_values), key= output_values.count)\n",
    "        # Return the prediction\n",
    "        return prediction\n",
    "    \n",
    "    def predict_classification(self, X_test):\n",
    "        '''\n",
    "        Method utilizes the helper_predict_classification to return predictions for \n",
    "        multiple test rows stored in X_test.\n",
    "        '''\n",
    "        # X_test must be a python list\n",
    "        # Method will convert the input to python lists and save it in memory\n",
    "        self.X_test = X_test\n",
    "\n",
    "        # Create a list to hold all of the predictions\n",
    "        self.predictions = []\n",
    "\n",
    "        # For each row in X_test, call the predict_classification helper method\n",
    "        for test_row in self.X_test:\n",
    "            predicted_output = self.helper_predict_classification(test_row)\n",
    "\n",
    "            # Save the prediction for each row in X_test\n",
    "            self.predictions.append(predicted_output)\n",
    "\n",
    "            # Return the list of predictions for each datapoint in X_test\n",
    "            return self.predictions\n",
    "\n",
    "    def helper_predict_regression(self, test_row):\n",
    "        '''\n",
    "        Method returns a regression prediction for a single given test datapoint.\n",
    "        This method will be utilized in the predict_classification method which will be \n",
    "        capable of making predictions for a large X_test dataset.\n",
    "        '''\n",
    "\n",
    "        # Find the nearest neighbors\n",
    "        n_neighbors = self.get_KNN(test_row)\n",
    "\n",
    "        # Use the index values of the nearest neighbors to recall their target outputs\n",
    "\n",
    "        # Store the index values of the n_neighbors\n",
    "        train_output = [n_neighbors[i][0] for i in range(self.k)]    \n",
    "\n",
    "        # Use the index values from the n_neighbors to return their associated outputs from y_train\n",
    "        output_values = [self.y_train[value] for value in train_output]\n",
    "\n",
    "        # Make prediction by calculating the mean of the output values from the nearest neighbors\n",
    "        prediction = sum(output_values) / len(output_values)\n",
    "\n",
    "        # Return the prediction\n",
    "        return prediction\n",
    "    \n",
    "    def predict_regression(self, X_test):\n",
    "        '''\n",
    "        Method utilizes the helper_predict_classification to return predictions for \n",
    "        multiple test rows stored in X_test.\n",
    "        '''\n",
    "        # X_test must be a python list\n",
    "        # Method will convert the input to python lists and save it in memory\n",
    "        self.X_test = X_test\n",
    "\n",
    "        # Create a list to hold all of the predictions\n",
    "        self.predictions = []\n",
    "\n",
    "        # For each row in X_test, call the predict_classification helper method\n",
    "        for test_row in self.X_test:\n",
    "            predicted_output = self.helper_predict_regression(test_row)\n",
    "\n",
    "            # Save the prediction for each row in X_test\n",
    "            self.predictions.append(predicted_output)\n",
    "\n",
    "        # Return the list of predictions for each datapoint in X_test\n",
    "        return self.predictions\n",
    "    \n",
    "    def model_accuracy(self, y_test):\n",
    "        '''\n",
    "        Calculates the accuracy of the model's classification predictions.\n",
    "        Compares the predicted output values with the known test output values.\n",
    "        '''\n",
    "        # y_test must be a python list\n",
    "        # Method will convert the input to python lists and save it in memory\n",
    "        self.y_test = y_test.values.tolist()\n",
    "\n",
    "        # Compare each prediction to the known test output\n",
    "        predict_bool = [self.predictions[i] == self.y_test[i] for i in range(len(self.predictions))]\n",
    "\n",
    "        # Return the percentage of correct predictions\n",
    "        return sum(predict_bool) / len(self.y_test)\n",
    "    \n",
    "    def model_MSE(self, y_test):\n",
    "        '''\n",
    "        Calculates the mean squared error of the model's regression predictions.\n",
    "        Calculated by summing all of the squares of the differences between actual \n",
    "        and predicted, and then dividing by the number of observations.\n",
    "        ''' \n",
    "        # y_test must be a python list\n",
    "        # Method will convert the input to python lists and save it in memory\n",
    "        self.y_test = y_test.values.tolist()\n",
    "\n",
    "        # Start a mse variable at 0\n",
    "        mse = 0\n",
    "\n",
    "        # For each predicted value - square the difference bewteen the actual and predicted output\n",
    "        # Sum them all and return divide by the number of predicted outputs\n",
    "        for i in range(len(self.predictions)):\n",
    "            mse += (self.y_test[i] - self.predictions[i])**2\n",
    "            self.mse = mse / len(self.predictions)\n",
    "\n",
    "        # Return the calculated mean square root\n",
    "        return self.mse\n",
    "```"
   ]
  },
  {
   "cell_type": "markdown",
   "id": "eb64b93f",
   "metadata": {},
   "source": [
    "## Applications"
   ]
  },
  {
   "cell_type": "markdown",
   "id": "bc301778",
   "metadata": {},
   "source": [
    "In this section, we will make various applications of the KNN algorithm on our dataset. To explore the basics of machine learning, we will start by limiting the scope to a single feature, this is the univariate case."
   ]
  },
  {
   "cell_type": "markdown",
   "id": "5cdc7a88",
   "metadata": {},
   "source": [
    "### Euclidean distance"
   ]
  },
  {
   "cell_type": "markdown",
   "id": "a1bb44d1",
   "metadata": {},
   "source": [
    "In this section, we will try to answer the following questions:\n",
    "\n",
    "* calculate the euclidean distance between the home that can accommodate 3 people and the first home in the paris_listings dataframe\n",
    "* assign the result to the variable first_distance and display the result"
   ]
  },
  {
   "cell_type": "code",
   "execution_count": 4,
   "id": "bfd0d80c",
   "metadata": {},
   "outputs": [],
   "source": [
    "the_acc_value = 3\n",
    "first_home_value = paris_listings['accommodates'].iloc[0]"
   ]
  },
  {
   "cell_type": "code",
   "execution_count": 5,
   "id": "e79d2697",
   "metadata": {},
   "outputs": [
    {
     "data": {
      "text/plain": [
       "1"
      ]
     },
     "execution_count": 5,
     "metadata": {},
     "output_type": "execute_result"
    }
   ],
   "source": [
    "first_distance = np.abs(the_acc_value - first_home_value)\n",
    "first_distance"
   ]
  },
  {
   "cell_type": "markdown",
   "id": "fb74ea32",
   "metadata": {},
   "source": [
    "### Computation of the euclidean distance for all observations"
   ]
  },
  {
   "cell_type": "markdown",
   "id": "3deb4366",
   "metadata": {},
   "source": [
    "In this section, we will try to answer the following questions:\n",
    "\n",
    "* compute the distance between each value of the 'accommodates' column of paris_listings and the value 3 (which is the number of people the home can accommodate):\n",
    "    * use the apply method to compute the absolute value between each value of 'accommodates' and 3 and return a new series object containing the distance values\n",
    "* assign the distance values to the 'distance' column of the dataframe\n",
    "* use the series.value_counts() method and display the count of each unique value in the 'distance' column"
   ]
  },
  {
   "cell_type": "code",
   "execution_count": 6,
   "id": "426d05c5",
   "metadata": {},
   "outputs": [],
   "source": [
    "base_value = 3\n",
    "paris_listings['distance'] = paris_listings['accommodates'].apply(lambda x: np.abs(x - base_value))"
   ]
  },
  {
   "cell_type": "code",
   "execution_count": 7,
   "id": "dc23da2d",
   "metadata": {},
   "outputs": [
    {
     "data": {
      "text/plain": [
       "1     5665\n",
       "0      878\n",
       "2      726\n",
       "3      508\n",
       "4       88\n",
       "5       82\n",
       "6       18\n",
       "7       14\n",
       "9        8\n",
       "11       4\n",
       "8        4\n",
       "13       3\n",
       "10       2\n",
       "Name: distance, dtype: int64"
      ]
     },
     "execution_count": 7,
     "metadata": {},
     "output_type": "execute_result"
    }
   ],
   "source": [
    "paris_listings['distance'].value_counts()"
   ]
  },
  {
   "cell_type": "markdown",
   "id": "6ad4a389",
   "metadata": {},
   "source": [
    "In summary, there are 878 accommodations that can accommodate 3 people as for the basic home (base_value = 3). This means that if we have to select the 5 nearest neighbors, they will all have a distance of 0."
   ]
  },
  {
   "cell_type": "markdown",
   "id": "e3ef21ff",
   "metadata": {},
   "source": [
    "### Randomization and sorting"
   ]
  },
  {
   "cell_type": "markdown",
   "id": "7a250295",
   "metadata": {},
   "source": [
    "In this section, we will try to answer the following questions:\n",
    "\n",
    "* we start by defining the random seed by np.random.seed(1)\n",
    "* randomize the order of the rows in paris_listings:\n",
    "    * use the np.random.permutation() function to return a numpy array of shuffled index values\n",
    "    * use the method on dataframe.loc[] to return a new dataframe containing the shuffled order\n",
    "    * assign the new dataframe back to paris_listings\n",
    "* after randomizing, sort paris_listings on the 'distance' column with the sort_values() method\n",
    "* display the first 10 values of the 'price' column"
   ]
  },
  {
   "cell_type": "code",
   "execution_count": 8,
   "id": "af2df10f",
   "metadata": {},
   "outputs": [
    {
     "data": {
      "text/plain": [
       "1956     $80.00\n",
       "3735     $67.00\n",
       "6944     $36.00\n",
       "2094    $120.00\n",
       "2968     $60.00\n",
       "845     $200.00\n",
       "6083     $95.00\n",
       "5970     $95.00\n",
       "2992     $76.00\n",
       "3179    $100.00\n",
       "Name: price, dtype: object"
      ]
     },
     "execution_count": 8,
     "metadata": {},
     "output_type": "execute_result"
    }
   ],
   "source": [
    "np.random.seed(1)\n",
    "paris_listings = paris_listings.loc[np.random.permutation(len(paris_listings))]\n",
    "paris_listings = paris_listings.sort_values('distance')\n",
    "paris_listings.iloc[0:10]['price']"
   ]
  },
  {
   "cell_type": "markdown",
   "id": "899d07cb",
   "metadata": {},
   "source": [
    "### Average price computation"
   ]
  },
  {
   "cell_type": "markdown",
   "id": "bad8b6b8",
   "metadata": {},
   "source": [
    "In this section, we will try to answer the following questions:\n",
    "\n",
    "* remove commas and dollar signs from the 'price' column:\n",
    "    * use the str method so that we can apply the string method followed by the character replacement method to each value in the 'price' column: paris_listings['price'].str.replace(',', \")\n",
    "    * repeat the operation to remove the $ signs\n",
    "* convert the new series object containing the cleaned values into a float and assign the result to the 'price' column of the paris_listings dataframe\n",
    "* compute the average of the 5 values in the 'price' column and assign the result to the mean_price variable\n",
    "* display the result"
   ]
  },
  {
   "cell_type": "code",
   "execution_count": 9,
   "id": "ce36c6f1",
   "metadata": {},
   "outputs": [],
   "source": [
    "paris_listings['price'] = paris_listings['price'].str.replace(',', '', regex=True)\n",
    "paris_listings['price'] = paris_listings['price'].str.replace('$', '', regex=True)\n",
    "paris_listings['price'] = paris_listings['price'].astype('float')"
   ]
  },
  {
   "cell_type": "code",
   "execution_count": 10,
   "id": "374e37b2",
   "metadata": {},
   "outputs": [
    {
     "data": {
      "text/plain": [
       "72.6"
      ]
     },
     "execution_count": 10,
     "metadata": {},
     "output_type": "execute_result"
    }
   ],
   "source": [
    "mean_price = paris_listings.iloc[0:5]['price'].mean()\n",
    "mean_price"
   ]
  },
  {
   "cell_type": "markdown",
   "id": "3fce427c",
   "metadata": {},
   "source": [
    "### Put all together in a function to make predictions"
   ]
  },
  {
   "cell_type": "markdown",
   "id": "d78e2edb",
   "metadata": {},
   "source": [
    "In this section, we will try to answer the following questions:\n",
    "\n",
    "* write a function named predict_price that uses the k-nearest-neighbor algorithm to compute the suggested price for any value of the number of people the unit can accommodate\n",
    "* this function must:\n",
    "    * take a single parameter, new_listing, the number of people the accommodation can accommodate\n",
    "    * assign paris_listings to a new dataframe named temp_df\n",
    "    * use the pandas.DataFrame.copy() method so that the previous dataframe is assigned to the temp_df variable, instead of just referring to paris_listings\n",
    "    * compute the distance between each value in the 'accommodates' column and the new_listing value passed as a parameter to the function\n",
    "    * assign the resulting series object to the 'distance' column of temp_df\n",
    "    * sort temp_df on the distance column and select the first 5 values of the 'price' column\n",
    "    * do not randomize the order of temp_df\n",
    "    * compute the average of these 5 values and return this value as the output of the predict_price function\n",
    "* use the predict_price function to suggest a price for an accommodation that can accommodate:\n",
    "    * 1 person, assign this result to the acc_one variable\n",
    "    * 2 people, assign this result to the variable acc_two\n",
    "    * 4 people, assign this result to the variable acc_four"
   ]
  },
  {
   "cell_type": "code",
   "execution_count": 11,
   "id": "b17fdb00",
   "metadata": {},
   "outputs": [],
   "source": [
    "np.random.seed(1)\n",
    "\n",
    "paris_listings = pd.read_csv('paris_airbnb.csv')\n",
    "paris_listings['price'] = paris_listings['price'].str.replace(',',\n",
    "                                                              '',\n",
    "                                                              regex=True)\n",
    "paris_listings['price'] = paris_listings['price'].str.replace('$',\n",
    "                                                              '',\n",
    "                                                              regex=True)\n",
    "paris_listings['price'] = paris_listings['price'].astype('float')\n",
    "paris_listings = paris_listings.loc[np.random.permutation(len(paris_listings))]"
   ]
  },
  {
   "cell_type": "code",
   "execution_count": 12,
   "id": "36f41bfe",
   "metadata": {},
   "outputs": [],
   "source": [
    "def predict_price(new_listing):\n",
    "\n",
    "    temp_df = paris_listings.copy()\n",
    "    temp_df['distance'] = temp_df['accommodates'].apply(\n",
    "        lambda x: np.abs(x - new_listing))\n",
    "    temp_df = temp_df.sort_values('distance')\n",
    "    nearest_neighbors = temp_df.iloc[0:5]['price']\n",
    "    predicted_price = nearest_neighbors.mean()\n",
    "\n",
    "    return (predicted_price)"
   ]
  },
  {
   "cell_type": "code",
   "execution_count": 13,
   "id": "df38ec07",
   "metadata": {},
   "outputs": [],
   "source": [
    "acc_one = predict_price(1)\n",
    "acc_two = predict_price(2)\n",
    "acc_four = predict_price(4)"
   ]
  },
  {
   "cell_type": "code",
   "execution_count": 14,
   "id": "58e708b7",
   "metadata": {},
   "outputs": [
    {
     "name": "stdout",
     "output_type": "stream",
     "text": [
      "69.6\n",
      "105.4\n",
      "104.6\n"
     ]
    }
   ],
   "source": [
    "print(acc_one)\n",
    "print(acc_two)\n",
    "print(acc_four)"
   ]
  },
  {
   "cell_type": "markdown",
   "id": "a496eea4",
   "metadata": {},
   "source": [
    "## Evaluate model performance"
   ]
  },
  {
   "cell_type": "markdown",
   "id": "76536f49",
   "metadata": {},
   "source": [
    "In this section, we will try to evaluate the performance of our model."
   ]
  },
  {
   "cell_type": "markdown",
   "id": "2ba3c638",
   "metadata": {},
   "source": [
    "### Test the quality of predictions"
   ]
  },
  {
   "cell_type": "markdown",
   "id": "0cea8205",
   "metadata": {},
   "source": [
    "In this section, we will try to answer the following questions:\n",
    "\n",
    "* split the initial dataframe in 2 parts:\n",
    "    * X_train containing 6000 rows of paris_listings\n",
    "    * X_test containing the rest\n",
    "* modify the predict_price function, change the temp_df dataframe\n",
    "* change the paris_listings dataframe to X_train, so that only the training set is used\n",
    "* use the series apply method to apply the predict_price function on the values of the 'accommodates' column of the X_test dataframe\n",
    "* assign the resulting series object to the 'predicted_price' column of X_test"
   ]
  },
  {
   "cell_type": "code",
   "execution_count": 15,
   "id": "f4d7f757",
   "metadata": {},
   "outputs": [],
   "source": [
    "np.random.seed(1)\n",
    "\n",
    "paris_listings = pd.read_csv('paris_airbnb.csv')\n",
    "paris_listings['price'] = paris_listings['price'].str.replace(',',\n",
    "                                                              '',\n",
    "                                                              regex=True)\n",
    "paris_listings['price'] = paris_listings['price'].str.replace('$',\n",
    "                                                              '',\n",
    "                                                              regex=True)\n",
    "paris_listings['price'] = paris_listings['price'].astype('float')\n",
    "paris_listings = paris_listings.loc[np.random.permutation(len(paris_listings))]\n",
    "\n",
    "X_train = paris_listings.iloc[0:6000]\n",
    "X_test = paris_listings.iloc[6000:]"
   ]
  },
  {
   "cell_type": "code",
   "execution_count": 16,
   "id": "358ca87a",
   "metadata": {},
   "outputs": [],
   "source": [
    "def predict_price(new_listing):\n",
    "\n",
    "    temp_df = X_train.copy()\n",
    "    temp_df['distance'] = temp_df['accommodates'].apply(\n",
    "        lambda x: np.abs(x - new_listing))\n",
    "    temp_df = temp_df.sort_values('distance')\n",
    "    nearest_neighbors = temp_df.iloc[0:5]['price']\n",
    "    predicted_price = nearest_neighbors.mean()\n",
    "\n",
    "    return (predicted_price)"
   ]
  },
  {
   "cell_type": "code",
   "execution_count": 17,
   "id": "ccd306bd",
   "metadata": {},
   "outputs": [
    {
     "data": {
      "text/html": [
       "<div>\n",
       "<style scoped>\n",
       "    .dataframe tbody tr th:only-of-type {\n",
       "        vertical-align: middle;\n",
       "    }\n",
       "\n",
       "    .dataframe tbody tr th {\n",
       "        vertical-align: top;\n",
       "    }\n",
       "\n",
       "    .dataframe thead th {\n",
       "        text-align: right;\n",
       "    }\n",
       "</style>\n",
       "<table border=\"1\" class=\"dataframe\">\n",
       "  <thead>\n",
       "    <tr style=\"text-align: right;\">\n",
       "      <th></th>\n",
       "      <th>host_response_rate</th>\n",
       "      <th>host_acceptance_rate</th>\n",
       "      <th>host_listings_count</th>\n",
       "      <th>latitude</th>\n",
       "      <th>longitude</th>\n",
       "      <th>city</th>\n",
       "      <th>zipcode</th>\n",
       "      <th>state</th>\n",
       "      <th>accommodates</th>\n",
       "      <th>room_type</th>\n",
       "      <th>bedrooms</th>\n",
       "      <th>bathrooms</th>\n",
       "      <th>beds</th>\n",
       "      <th>price</th>\n",
       "      <th>cleaning_fee</th>\n",
       "      <th>security_deposit</th>\n",
       "      <th>minimum_nights</th>\n",
       "      <th>maximum_nights</th>\n",
       "      <th>number_of_reviews</th>\n",
       "      <th>predicted_price</th>\n",
       "    </tr>\n",
       "  </thead>\n",
       "  <tbody>\n",
       "    <tr>\n",
       "      <th>4465</th>\n",
       "      <td>96%</td>\n",
       "      <td>NaN</td>\n",
       "      <td>28.0</td>\n",
       "      <td>48.89318</td>\n",
       "      <td>2.31884</td>\n",
       "      <td>Paris</td>\n",
       "      <td>75017</td>\n",
       "      <td>Paris province</td>\n",
       "      <td>2</td>\n",
       "      <td>Entire home/apt</td>\n",
       "      <td>0.0</td>\n",
       "      <td>1.0</td>\n",
       "      <td>1.0</td>\n",
       "      <td>63.0</td>\n",
       "      <td>$100.00</td>\n",
       "      <td>$400.00</td>\n",
       "      <td>14</td>\n",
       "      <td>180</td>\n",
       "      <td>61</td>\n",
       "      <td>90.4</td>\n",
       "    </tr>\n",
       "    <tr>\n",
       "      <th>3154</th>\n",
       "      <td>100%</td>\n",
       "      <td>NaN</td>\n",
       "      <td>2.0</td>\n",
       "      <td>48.85114</td>\n",
       "      <td>2.29728</td>\n",
       "      <td>Paris</td>\n",
       "      <td>75015</td>\n",
       "      <td>Île-de-France</td>\n",
       "      <td>5</td>\n",
       "      <td>Entire home/apt</td>\n",
       "      <td>1.0</td>\n",
       "      <td>1.0</td>\n",
       "      <td>4.0</td>\n",
       "      <td>120.0</td>\n",
       "      <td>$50.00</td>\n",
       "      <td>$200.00</td>\n",
       "      <td>1</td>\n",
       "      <td>120</td>\n",
       "      <td>102</td>\n",
       "      <td>176.8</td>\n",
       "    </tr>\n",
       "    <tr>\n",
       "      <th>1969</th>\n",
       "      <td>65%</td>\n",
       "      <td>NaN</td>\n",
       "      <td>93.0</td>\n",
       "      <td>48.85134</td>\n",
       "      <td>2.33359</td>\n",
       "      <td>Paris</td>\n",
       "      <td>75006</td>\n",
       "      <td>Île-de-France</td>\n",
       "      <td>3</td>\n",
       "      <td>Entire home/apt</td>\n",
       "      <td>1.0</td>\n",
       "      <td>1.0</td>\n",
       "      <td>2.0</td>\n",
       "      <td>149.0</td>\n",
       "      <td>$60.00</td>\n",
       "      <td>$600.00</td>\n",
       "      <td>30</td>\n",
       "      <td>1125</td>\n",
       "      <td>5</td>\n",
       "      <td>96.2</td>\n",
       "    </tr>\n",
       "    <tr>\n",
       "      <th>2713</th>\n",
       "      <td>NaN</td>\n",
       "      <td>NaN</td>\n",
       "      <td>1.0</td>\n",
       "      <td>48.87320</td>\n",
       "      <td>2.38649</td>\n",
       "      <td>Paris</td>\n",
       "      <td>75020</td>\n",
       "      <td>Île-de-France</td>\n",
       "      <td>4</td>\n",
       "      <td>Entire home/apt</td>\n",
       "      <td>2.0</td>\n",
       "      <td>1.0</td>\n",
       "      <td>1.0</td>\n",
       "      <td>79.0</td>\n",
       "      <td>$65.00</td>\n",
       "      <td>$299.00</td>\n",
       "      <td>2</td>\n",
       "      <td>1125</td>\n",
       "      <td>5</td>\n",
       "      <td>173.0</td>\n",
       "    </tr>\n",
       "    <tr>\n",
       "      <th>5578</th>\n",
       "      <td>100%</td>\n",
       "      <td>NaN</td>\n",
       "      <td>1.0</td>\n",
       "      <td>48.85691</td>\n",
       "      <td>2.36013</td>\n",
       "      <td>Paris</td>\n",
       "      <td>75004</td>\n",
       "      <td>Île-de-France</td>\n",
       "      <td>2</td>\n",
       "      <td>Entire home/apt</td>\n",
       "      <td>1.0</td>\n",
       "      <td>1.0</td>\n",
       "      <td>1.0</td>\n",
       "      <td>51.0</td>\n",
       "      <td>$25.00</td>\n",
       "      <td>$150.00</td>\n",
       "      <td>4</td>\n",
       "      <td>15</td>\n",
       "      <td>17</td>\n",
       "      <td>90.4</td>\n",
       "    </tr>\n",
       "  </tbody>\n",
       "</table>\n",
       "</div>"
      ],
      "text/plain": [
       "     host_response_rate  host_acceptance_rate  host_listings_count  latitude  \\\n",
       "4465                96%                   NaN                 28.0  48.89318   \n",
       "3154               100%                   NaN                  2.0  48.85114   \n",
       "1969                65%                   NaN                 93.0  48.85134   \n",
       "2713                NaN                   NaN                  1.0  48.87320   \n",
       "5578               100%                   NaN                  1.0  48.85691   \n",
       "\n",
       "      longitude   city zipcode           state  accommodates        room_type  \\\n",
       "4465    2.31884  Paris   75017  Paris province             2  Entire home/apt   \n",
       "3154    2.29728  Paris   75015   Île-de-France             5  Entire home/apt   \n",
       "1969    2.33359  Paris   75006   Île-de-France             3  Entire home/apt   \n",
       "2713    2.38649  Paris   75020   Île-de-France             4  Entire home/apt   \n",
       "5578    2.36013  Paris   75004   Île-de-France             2  Entire home/apt   \n",
       "\n",
       "      bedrooms  bathrooms  beds  price cleaning_fee security_deposit  \\\n",
       "4465       0.0        1.0   1.0   63.0      $100.00          $400.00   \n",
       "3154       1.0        1.0   4.0  120.0       $50.00          $200.00   \n",
       "1969       1.0        1.0   2.0  149.0       $60.00          $600.00   \n",
       "2713       2.0        1.0   1.0   79.0       $65.00          $299.00   \n",
       "5578       1.0        1.0   1.0   51.0       $25.00          $150.00   \n",
       "\n",
       "      minimum_nights  maximum_nights  number_of_reviews  predicted_price  \n",
       "4465              14             180                 61             90.4  \n",
       "3154               1             120                102            176.8  \n",
       "1969              30            1125                  5             96.2  \n",
       "2713               2            1125                  5            173.0  \n",
       "5578               4              15                 17             90.4  "
      ]
     },
     "execution_count": 17,
     "metadata": {},
     "output_type": "execute_result"
    }
   ],
   "source": [
    "X_test['predicted_price'] = X_test['accommodates'].apply(predict_price)\n",
    "X_test.head()"
   ]
  },
  {
   "cell_type": "markdown",
   "id": "80248f46",
   "metadata": {},
   "source": [
    "### Error metrics"
   ]
  },
  {
   "cell_type": "markdown",
   "id": "4941d04b",
   "metadata": {},
   "source": [
    "#### MAE (Mean Absolute Error)"
   ]
  },
  {
   "cell_type": "markdown",
   "id": "e5451b84",
   "metadata": {},
   "source": [
    "$$\n",
    "MAE=\\frac{\\mid\\left(\\text { actual }_{1}-\\text { predicted }_{1}\\right)|+|\\left(\\text { actual }_{2}-\\text { predicted }_{2}\\right)|+\\cdots+|\\left(\\text { actual }_{n}-\\text { predicted }_{n}\\right) \\mid}{n}.\n",
    "$$"
   ]
  },
  {
   "cell_type": "markdown",
   "id": "748c7e90",
   "metadata": {},
   "source": [
    "In this section, we will try to answer the following questions:\n",
    "\n",
    "* use the numpy.absolute() method to compute the MAE (mean absolute error) between predicted_price and price\n",
    "* assign the result to the variable mae_1"
   ]
  },
  {
   "cell_type": "code",
   "execution_count": 18,
   "id": "c970e7ec",
   "metadata": {},
   "outputs": [
    {
     "data": {
      "text/plain": [
       "52.5621999999998"
      ]
     },
     "execution_count": 18,
     "metadata": {},
     "output_type": "execute_result"
    }
   ],
   "source": [
    "X_test['absolute_error'] = np.absolute(X_test['price'] - X_test['predicted_price'])\n",
    "mae_1 = X_test['absolute_error'].mean()\n",
    "mae_1"
   ]
  },
  {
   "cell_type": "markdown",
   "id": "d0a442f0",
   "metadata": {},
   "source": [
    "#### MSE (Mean Square Error)"
   ]
  },
  {
   "cell_type": "markdown",
   "id": "431f6c02",
   "metadata": {},
   "source": [
    "$$\n",
    "MSE=\\frac{\\left(\\text { actual }_{1}-\\text { predicted }_{1}\\right)^{2}+\\left(\\text { actual }_{2}-\\text { predicted }_{2}\\right)^{2}+\\cdots+\\left(\\text { actual }_{n}-\\text { predicted }_{n}\\right)^{2}}{n}\n",
    "$$"
   ]
  },
  {
   "cell_type": "markdown",
   "id": "5a4efb81",
   "metadata": {},
   "source": [
    "In this section, we will try to answer the following questions:\n",
    "\n",
    "* compute the value of MSE between the columns 'predicted_price' and 'price'\n",
    "* assign the result to the variable mse_1\n",
    "* display the result"
   ]
  },
  {
   "cell_type": "code",
   "execution_count": 19,
   "id": "46932bd7",
   "metadata": {},
   "outputs": [
    {
     "data": {
      "text/plain": [
       "6724.726040000068"
      ]
     },
     "execution_count": 19,
     "metadata": {},
     "output_type": "execute_result"
    }
   ],
   "source": [
    "X_test['squared_error'] = (X_test['price'] - X_test['predicted_price'])**2\n",
    "mse_1 = X_test['squared_error'].mean()\n",
    "mse_1"
   ]
  },
  {
   "cell_type": "markdown",
   "id": "d4a984fa",
   "metadata": {},
   "source": [
    "### Training another model"
   ]
  },
  {
   "cell_type": "markdown",
   "id": "ab8d8292",
   "metadata": {},
   "source": [
    "In this section, we will try to answer the following questions:\n",
    "\n",
    "* modify the following function predict_price by using the 'bedrooms' column instead of the 'accommodates' column to make the predictions\n",
    "* apply the function to the X_test dataframe and assign the resulting series object containing the predicted price values to the 'predicted_price' column of X_test\n",
    "* compute the squared error between the 'price' and 'predicted_price' columns of X_test and assign the resulting series object to the 'squared_error' column of X_test, same for 'absolute_error' column\n",
    "* compute the average of the 'squared_error' column of X_test and assign to the variable mse, same for mae\n",
    "* display the value of MSE and MAE"
   ]
  },
  {
   "cell_type": "code",
   "execution_count": 20,
   "id": "f6c15c28",
   "metadata": {},
   "outputs": [],
   "source": [
    "np.random.seed(1)\n",
    "\n",
    "paris_listings = pd.read_csv('paris_airbnb.csv')\n",
    "paris_listings['price'] = paris_listings['price'].str.replace(',',\n",
    "                                                              '',\n",
    "                                                              regex=True)\n",
    "paris_listings['price'] = paris_listings['price'].str.replace('$',\n",
    "                                                              '',\n",
    "                                                              regex=True)\n",
    "paris_listings['price'] = paris_listings['price'].astype('float')\n",
    "paris_listings = paris_listings.loc[np.random.permutation(len(paris_listings))]\n",
    "\n",
    "X_train = paris_listings.iloc[0:6000]\n",
    "X_test = paris_listings.iloc[6000:]"
   ]
  },
  {
   "cell_type": "code",
   "execution_count": 21,
   "id": "9df8f865",
   "metadata": {},
   "outputs": [],
   "source": [
    "def predict_price(new_listing):\n",
    "\n",
    "    temp_df = X_train.copy()\n",
    "    temp_df['distance'] = temp_df['bedrooms'].apply(\n",
    "        lambda x: np.abs(x - new_listing))\n",
    "    temp_df = temp_df.sort_values('distance')\n",
    "    nearest_neighbors = temp_df.iloc[0:5]['price']\n",
    "    predicted_price = nearest_neighbors.mean()\n",
    "\n",
    "    return (predicted_price)"
   ]
  },
  {
   "cell_type": "code",
   "execution_count": 22,
   "id": "0b610f27",
   "metadata": {},
   "outputs": [
    {
     "data": {
      "text/html": [
       "<div>\n",
       "<style scoped>\n",
       "    .dataframe tbody tr th:only-of-type {\n",
       "        vertical-align: middle;\n",
       "    }\n",
       "\n",
       "    .dataframe tbody tr th {\n",
       "        vertical-align: top;\n",
       "    }\n",
       "\n",
       "    .dataframe thead th {\n",
       "        text-align: right;\n",
       "    }\n",
       "</style>\n",
       "<table border=\"1\" class=\"dataframe\">\n",
       "  <thead>\n",
       "    <tr style=\"text-align: right;\">\n",
       "      <th></th>\n",
       "      <th>host_response_rate</th>\n",
       "      <th>host_acceptance_rate</th>\n",
       "      <th>host_listings_count</th>\n",
       "      <th>latitude</th>\n",
       "      <th>longitude</th>\n",
       "      <th>city</th>\n",
       "      <th>zipcode</th>\n",
       "      <th>state</th>\n",
       "      <th>accommodates</th>\n",
       "      <th>room_type</th>\n",
       "      <th>bedrooms</th>\n",
       "      <th>bathrooms</th>\n",
       "      <th>beds</th>\n",
       "      <th>price</th>\n",
       "      <th>cleaning_fee</th>\n",
       "      <th>security_deposit</th>\n",
       "      <th>minimum_nights</th>\n",
       "      <th>maximum_nights</th>\n",
       "      <th>number_of_reviews</th>\n",
       "      <th>predicted_price</th>\n",
       "    </tr>\n",
       "  </thead>\n",
       "  <tbody>\n",
       "    <tr>\n",
       "      <th>4465</th>\n",
       "      <td>96%</td>\n",
       "      <td>NaN</td>\n",
       "      <td>28.0</td>\n",
       "      <td>48.89318</td>\n",
       "      <td>2.31884</td>\n",
       "      <td>Paris</td>\n",
       "      <td>75017</td>\n",
       "      <td>Paris province</td>\n",
       "      <td>2</td>\n",
       "      <td>Entire home/apt</td>\n",
       "      <td>0.0</td>\n",
       "      <td>1.0</td>\n",
       "      <td>1.0</td>\n",
       "      <td>63.0</td>\n",
       "      <td>$100.00</td>\n",
       "      <td>$400.00</td>\n",
       "      <td>14</td>\n",
       "      <td>180</td>\n",
       "      <td>61</td>\n",
       "      <td>77.4</td>\n",
       "    </tr>\n",
       "    <tr>\n",
       "      <th>3154</th>\n",
       "      <td>100%</td>\n",
       "      <td>NaN</td>\n",
       "      <td>2.0</td>\n",
       "      <td>48.85114</td>\n",
       "      <td>2.29728</td>\n",
       "      <td>Paris</td>\n",
       "      <td>75015</td>\n",
       "      <td>Île-de-France</td>\n",
       "      <td>5</td>\n",
       "      <td>Entire home/apt</td>\n",
       "      <td>1.0</td>\n",
       "      <td>1.0</td>\n",
       "      <td>4.0</td>\n",
       "      <td>120.0</td>\n",
       "      <td>$50.00</td>\n",
       "      <td>$200.00</td>\n",
       "      <td>1</td>\n",
       "      <td>120</td>\n",
       "      <td>102</td>\n",
       "      <td>68.4</td>\n",
       "    </tr>\n",
       "    <tr>\n",
       "      <th>1969</th>\n",
       "      <td>65%</td>\n",
       "      <td>NaN</td>\n",
       "      <td>93.0</td>\n",
       "      <td>48.85134</td>\n",
       "      <td>2.33359</td>\n",
       "      <td>Paris</td>\n",
       "      <td>75006</td>\n",
       "      <td>Île-de-France</td>\n",
       "      <td>3</td>\n",
       "      <td>Entire home/apt</td>\n",
       "      <td>1.0</td>\n",
       "      <td>1.0</td>\n",
       "      <td>2.0</td>\n",
       "      <td>149.0</td>\n",
       "      <td>$60.00</td>\n",
       "      <td>$600.00</td>\n",
       "      <td>30</td>\n",
       "      <td>1125</td>\n",
       "      <td>5</td>\n",
       "      <td>68.4</td>\n",
       "    </tr>\n",
       "    <tr>\n",
       "      <th>2713</th>\n",
       "      <td>NaN</td>\n",
       "      <td>NaN</td>\n",
       "      <td>1.0</td>\n",
       "      <td>48.87320</td>\n",
       "      <td>2.38649</td>\n",
       "      <td>Paris</td>\n",
       "      <td>75020</td>\n",
       "      <td>Île-de-France</td>\n",
       "      <td>4</td>\n",
       "      <td>Entire home/apt</td>\n",
       "      <td>2.0</td>\n",
       "      <td>1.0</td>\n",
       "      <td>1.0</td>\n",
       "      <td>79.0</td>\n",
       "      <td>$65.00</td>\n",
       "      <td>$299.00</td>\n",
       "      <td>2</td>\n",
       "      <td>1125</td>\n",
       "      <td>5</td>\n",
       "      <td>121.8</td>\n",
       "    </tr>\n",
       "    <tr>\n",
       "      <th>5578</th>\n",
       "      <td>100%</td>\n",
       "      <td>NaN</td>\n",
       "      <td>1.0</td>\n",
       "      <td>48.85691</td>\n",
       "      <td>2.36013</td>\n",
       "      <td>Paris</td>\n",
       "      <td>75004</td>\n",
       "      <td>Île-de-France</td>\n",
       "      <td>2</td>\n",
       "      <td>Entire home/apt</td>\n",
       "      <td>1.0</td>\n",
       "      <td>1.0</td>\n",
       "      <td>1.0</td>\n",
       "      <td>51.0</td>\n",
       "      <td>$25.00</td>\n",
       "      <td>$150.00</td>\n",
       "      <td>4</td>\n",
       "      <td>15</td>\n",
       "      <td>17</td>\n",
       "      <td>68.4</td>\n",
       "    </tr>\n",
       "  </tbody>\n",
       "</table>\n",
       "</div>"
      ],
      "text/plain": [
       "     host_response_rate  host_acceptance_rate  host_listings_count  latitude  \\\n",
       "4465                96%                   NaN                 28.0  48.89318   \n",
       "3154               100%                   NaN                  2.0  48.85114   \n",
       "1969                65%                   NaN                 93.0  48.85134   \n",
       "2713                NaN                   NaN                  1.0  48.87320   \n",
       "5578               100%                   NaN                  1.0  48.85691   \n",
       "\n",
       "      longitude   city zipcode           state  accommodates        room_type  \\\n",
       "4465    2.31884  Paris   75017  Paris province             2  Entire home/apt   \n",
       "3154    2.29728  Paris   75015   Île-de-France             5  Entire home/apt   \n",
       "1969    2.33359  Paris   75006   Île-de-France             3  Entire home/apt   \n",
       "2713    2.38649  Paris   75020   Île-de-France             4  Entire home/apt   \n",
       "5578    2.36013  Paris   75004   Île-de-France             2  Entire home/apt   \n",
       "\n",
       "      bedrooms  bathrooms  beds  price cleaning_fee security_deposit  \\\n",
       "4465       0.0        1.0   1.0   63.0      $100.00          $400.00   \n",
       "3154       1.0        1.0   4.0  120.0       $50.00          $200.00   \n",
       "1969       1.0        1.0   2.0  149.0       $60.00          $600.00   \n",
       "2713       2.0        1.0   1.0   79.0       $65.00          $299.00   \n",
       "5578       1.0        1.0   1.0   51.0       $25.00          $150.00   \n",
       "\n",
       "      minimum_nights  maximum_nights  number_of_reviews  predicted_price  \n",
       "4465              14             180                 61             77.4  \n",
       "3154               1             120                102             68.4  \n",
       "1969              30            1125                  5             68.4  \n",
       "2713               2            1125                  5            121.8  \n",
       "5578               4              15                 17             68.4  "
      ]
     },
     "execution_count": 22,
     "metadata": {},
     "output_type": "execute_result"
    }
   ],
   "source": [
    "X_test['predicted_price'] = X_test['bedrooms'].apply(predict_price)\n",
    "X_test.head()"
   ]
  },
  {
   "cell_type": "code",
   "execution_count": 23,
   "id": "a39ff1e8",
   "metadata": {},
   "outputs": [
    {
     "data": {
      "text/plain": [
       "6281.181980000002"
      ]
     },
     "execution_count": 23,
     "metadata": {},
     "output_type": "execute_result"
    }
   ],
   "source": [
    "X_test['squared_error'] = (X_test['price'] - X_test['predicted_price'])**2\n",
    "mse_2 = X_test['squared_error'].mean()\n",
    "mse_2"
   ]
  },
  {
   "cell_type": "code",
   "execution_count": 24,
   "id": "f2b4fb79",
   "metadata": {},
   "outputs": [
    {
     "data": {
      "text/plain": [
       "43.47410000000008"
      ]
     },
     "execution_count": 24,
     "metadata": {},
     "output_type": "execute_result"
    }
   ],
   "source": [
    "X_test['absolute_error'] = np.absolute(X_test['price'] - X_test['predicted_price'])\n",
    "mae_2 = X_test['absolute_error'].mean()\n",
    "mae_2"
   ]
  },
  {
   "cell_type": "markdown",
   "id": "f3575655",
   "metadata": {},
   "source": [
    "### Root mean square error (RMSE)"
   ]
  },
  {
   "cell_type": "markdown",
   "id": "1a2e239d",
   "metadata": {},
   "source": [
    "$$\n",
    "RMSE=\\sqrt{MSE}\n",
    "$$"
   ]
  },
  {
   "cell_type": "markdown",
   "id": "aaf95abc",
   "metadata": {},
   "source": [
    "In this section, we will try to answer the following questions:\n",
    "\n",
    "* compute the RMSE value of the trained models\n",
    "* assign the result to the variable rmse\n",
    "* display the result"
   ]
  },
  {
   "cell_type": "code",
   "execution_count": 25,
   "id": "f1e1503c",
   "metadata": {},
   "outputs": [
    {
     "data": {
      "text/plain": [
       "82.00442695367164"
      ]
     },
     "execution_count": 25,
     "metadata": {},
     "output_type": "execute_result"
    }
   ],
   "source": [
    "rmse_1 = mse_1**(0.5)\n",
    "rmse_1"
   ]
  },
  {
   "cell_type": "code",
   "execution_count": 26,
   "id": "3be475b8",
   "metadata": {},
   "outputs": [
    {
     "data": {
      "text/plain": [
       "79.25390829479643"
      ]
     },
     "execution_count": 26,
     "metadata": {},
     "output_type": "execute_result"
    }
   ],
   "source": [
    "rmse_2 = mse_2**(0.5)\n",
    "rmse_2"
   ]
  },
  {
   "cell_type": "markdown",
   "id": "dc985d5e",
   "metadata": {},
   "source": [
    "### Errors comparison"
   ]
  },
  {
   "cell_type": "markdown",
   "id": "82af80bd",
   "metadata": {},
   "source": [
    "In this section, we will try to answer the following questions:\n",
    "\n",
    "* put in a table all the values of the different errors computed for the purpose of comparison"
   ]
  },
  {
   "cell_type": "code",
   "execution_count": 27,
   "id": "3ba8a571",
   "metadata": {},
   "outputs": [
    {
     "data": {
      "text/html": [
       "<div>\n",
       "<style scoped>\n",
       "    .dataframe tbody tr th:only-of-type {\n",
       "        vertical-align: middle;\n",
       "    }\n",
       "\n",
       "    .dataframe tbody tr th {\n",
       "        vertical-align: top;\n",
       "    }\n",
       "\n",
       "    .dataframe thead th {\n",
       "        text-align: right;\n",
       "    }\n",
       "</style>\n",
       "<table border=\"1\" class=\"dataframe\">\n",
       "  <thead>\n",
       "    <tr style=\"text-align: right;\">\n",
       "      <th></th>\n",
       "      <th>Model_1</th>\n",
       "      <th>Model_2</th>\n",
       "    </tr>\n",
       "    <tr>\n",
       "      <th>Errors</th>\n",
       "      <th></th>\n",
       "      <th></th>\n",
       "    </tr>\n",
       "  </thead>\n",
       "  <tbody>\n",
       "    <tr>\n",
       "      <th>MAE</th>\n",
       "      <td>52.562200</td>\n",
       "      <td>43.474100</td>\n",
       "    </tr>\n",
       "    <tr>\n",
       "      <th>MSE</th>\n",
       "      <td>6724.726040</td>\n",
       "      <td>6281.181980</td>\n",
       "    </tr>\n",
       "    <tr>\n",
       "      <th>RMSE</th>\n",
       "      <td>82.004427</td>\n",
       "      <td>79.253908</td>\n",
       "    </tr>\n",
       "  </tbody>\n",
       "</table>\n",
       "</div>"
      ],
      "text/plain": [
       "            Model_1      Model_2\n",
       "Errors                          \n",
       "MAE       52.562200    43.474100\n",
       "MSE     6724.726040  6281.181980\n",
       "RMSE      82.004427    79.253908"
      ]
     },
     "execution_count": 27,
     "metadata": {},
     "output_type": "execute_result"
    }
   ],
   "source": [
    "my_dict_results = {\n",
    "    'Errors': ['MAE', 'MSE', 'RMSE'],\n",
    "    'Model_1': [mae_1, mse_1, rmse_1],\n",
    "    'Model_2': [mae_2, mse_2, rmse_2]\n",
    "}\n",
    "comparison_results = pd.DataFrame(my_dict_results,\n",
    "                                  columns=['Errors', 'Model_1', 'Model_2'])\n",
    "comparison_results = comparison_results.set_index('Errors')\n",
    "comparison_results"
   ]
  }
 ],
 "metadata": {
  "kernelspec": {
   "display_name": "Python 3 (ipykernel)",
   "language": "python",
   "name": "python3"
  },
  "language_info": {
   "codemirror_mode": {
    "name": "ipython",
    "version": 3
   },
   "file_extension": ".py",
   "mimetype": "text/x-python",
   "name": "python",
   "nbconvert_exporter": "python",
   "pygments_lexer": "ipython3",
   "version": "3.9.7"
  },
  "latex_envs": {
   "LaTeX_envs_menu_present": true,
   "autoclose": false,
   "autocomplete": true,
   "bibliofile": "biblio.bib",
   "cite_by": "apalike",
   "current_citInitial": 1,
   "eqLabelWithNumbers": true,
   "eqNumInitial": 1,
   "hotkeys": {
    "equation": "Ctrl-E",
    "itemize": "Ctrl-I"
   },
   "labels_anchors": false,
   "latex_user_defs": false,
   "report_style_numbering": false,
   "user_envs_cfg": false
  },
  "nbTranslate": {
   "displayLangs": [
    "*"
   ],
   "hotkey": "alt-t",
   "langInMainMenu": true,
   "sourceLang": "en",
   "targetLang": "fr",
   "useGoogleTranslate": true
  },
  "toc": {
   "base_numbering": 1,
   "nav_menu": {
    "height": "167.995px",
    "width": "240.99px"
   },
   "number_sections": true,
   "sideBar": true,
   "skip_h1_title": true,
   "title_cell": "Table of Contents",
   "title_sidebar": "Contents",
   "toc_cell": true,
   "toc_position": {
    "height": "calc(100% - 180px)",
    "left": "10px",
    "top": "150px",
    "width": "399.219px"
   },
   "toc_section_display": true,
   "toc_window_display": true
  }
 },
 "nbformat": 4,
 "nbformat_minor": 5
}
