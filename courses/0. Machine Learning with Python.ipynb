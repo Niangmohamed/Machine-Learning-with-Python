{
 "cells": [
  {
   "cell_type": "markdown",
   "id": "de72528e",
   "metadata": {},
   "source": [
    "# Python: Machine Learning"
   ]
  },
  {
   "cell_type": "markdown",
   "id": "64e4db24",
   "metadata": {},
   "source": [
    "**Author: Mohamed NIANG, ML Scientist**"
   ]
  },
  {
   "cell_type": "markdown",
   "id": "d9839f36",
   "metadata": {
    "toc": true
   },
   "source": [
    "<h1>Table of Contents<span class=\"tocSkip\"></span></h1>\n",
    "<div class=\"toc\"><ul class=\"toc-item\"><li><span><a href=\"#Presentation\" data-toc-modified-id=\"Presentation-1\"><span class=\"toc-item-num\">1&nbsp;&nbsp;</span>Presentation</a></span></li><li><span><a href=\"#Program-Content\" data-toc-modified-id=\"Program-Content-2\"><span class=\"toc-item-num\">2&nbsp;&nbsp;</span>Program Content</a></span></li></ul></div>"
   ]
  },
  {
   "cell_type": "markdown",
   "id": "ff6743f1",
   "metadata": {},
   "source": [
    "## Presentation"
   ]
  },
  {
   "cell_type": "markdown",
   "id": "81eadafc",
   "metadata": {},
   "source": [
    "This course explains step by step the concepts used in machine learning. Learn step by step the mechanisms of the k nearest neighbors algorithms, linear regression, logistic regression and the k-means clustering algorithm. You will learn how to evaluate the quality and accuracy of these models via error metrics. Cross-validation and hyper-parameter optimization will no longer hold any secrets for you. At the end of this course, you will have all the basics to understand and build your own more advanced machine learning models."
   ]
  },
  {
   "cell_type": "markdown",
   "id": "6c86ac82",
   "metadata": {},
   "source": [
    "## Program Content"
   ]
  },
  {
   "cell_type": "markdown",
   "id": "71b45f29",
   "metadata": {},
   "source": [
    "..."
   ]
  }
 ],
 "metadata": {
  "kernelspec": {
   "display_name": "Python 3 (ipykernel)",
   "language": "python",
   "name": "python3"
  },
  "language_info": {
   "codemirror_mode": {
    "name": "ipython",
    "version": 3
   },
   "file_extension": ".py",
   "mimetype": "text/x-python",
   "name": "python",
   "nbconvert_exporter": "python",
   "pygments_lexer": "ipython3",
   "version": "3.9.7"
  },
  "latex_envs": {
   "LaTeX_envs_menu_present": true,
   "autoclose": false,
   "autocomplete": true,
   "bibliofile": "biblio.bib",
   "cite_by": "apalike",
   "current_citInitial": 1,
   "eqLabelWithNumbers": true,
   "eqNumInitial": 1,
   "hotkeys": {
    "equation": "Ctrl-E",
    "itemize": "Ctrl-I"
   },
   "labels_anchors": false,
   "latex_user_defs": false,
   "report_style_numbering": false,
   "user_envs_cfg": false
  },
  "nbTranslate": {
   "displayLangs": [
    "*"
   ],
   "hotkey": "alt-t",
   "langInMainMenu": true,
   "sourceLang": "en",
   "targetLang": "fr",
   "useGoogleTranslate": true
  },
  "toc": {
   "base_numbering": 1,
   "nav_menu": {},
   "number_sections": true,
   "sideBar": true,
   "skip_h1_title": true,
   "title_cell": "Table of Contents",
   "title_sidebar": "Contents",
   "toc_cell": true,
   "toc_position": {},
   "toc_section_display": true,
   "toc_window_display": true
  }
 },
 "nbformat": 4,
 "nbformat_minor": 5
}
